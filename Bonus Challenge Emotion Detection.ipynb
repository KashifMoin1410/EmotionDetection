{
 "cells": [
  {
   "cell_type": "code",
   "execution_count": null,
   "id": "4bfde6b6",
   "metadata": {},
   "outputs": [],
   "source": [
    "from keras.models import load_model\n",
    "from time import sleep\n",
    "from keras.preprocessing.image import img_to_array\n",
    "from keras.preprocessing import image\n",
    "import cv2\n",
    "import numpy as np"
   ]
  },
  {
   "cell_type": "code",
   "execution_count": null,
   "id": "82dd121c",
   "metadata": {},
   "outputs": [],
   "source": [
    "face_classifier = cv2.CascadeClassifier(r\"C:\\Users\\kashi\\ML Facial Emotion\\haarcascade_frontalface_default.xml\")\n",
    "classifier =load_model(r\"C:\\Users\\kashi\\ML Facial Emotion\\cnnmodel.h5\")"
   ]
  },
  {
   "cell_type": "code",
   "execution_count": null,
   "id": "c06ccc38",
   "metadata": {},
   "outputs": [],
   "source": [
    "emotion_labels = ['Angry','Disgust','Fear','Happy', 'Sad', 'Surprise', 'Neutral']\n",
    "\n",
    "cap = cv2.VideoCapture(0)"
   ]
  },
  {
   "cell_type": "code",
   "execution_count": null,
   "id": "e69d3887",
   "metadata": {},
   "outputs": [],
   "source": [
    "def RGB(pixel):\n",
    "    image = []\n",
    "    for i in range(len(pixel)):\n",
    "        pix = cv2.cvtColor(pixel[i], cv2.COLOR_GRAY2RGB)\n",
    "        image.append(pix)\n",
    "    image = np.array(image)\n",
    "    return image"
   ]
  },
  {
   "cell_type": "code",
   "execution_count": null,
   "id": "44551a43",
   "metadata": {},
   "outputs": [],
   "source": [
    "while True:\n",
    "    _, frame = cap.read()\n",
    "    labels = []\n",
    "    gray = cv2.cvtColor(frame,cv2.COLOR_BGR2GRAY) # image to grayscale.\n",
    "    faces = face_classifier.detectMultiScale(gray) # to detect faces.\n",
    "\n",
    "    for (x,y,w,h) in faces: # since there can be multiple faces in one image.\n",
    "        cv2.rectangle(frame,(x,y),(x+w,y+h),(0,255,255),2) # for drawing a rectangle arounf each face of (0, 255, 255) color and 2 width.\n",
    "        roi_gray = gray[y:y+h,x:x+w] # this will be out region of interest.\n",
    "        roi_gray = cv2.resize(roi_gray,(48,48),interpolation=cv2.INTER_AREA) # we will be reshaping it in (48,48)\n",
    "\n",
    "\n",
    "\n",
    "        if np.sum([roi_gray])!=0:\n",
    "            roi = roi_gray.astype('float')/255.0\n",
    "            roi = img_to_array(roi)\n",
    "            roi = np.expand_dims(roi,axis=0)\n",
    "            roi  = RGB(roi)\n",
    "\n",
    "            prediction = classifier.predict(roi)[0]\n",
    "            label=emotion_labels[prediction.argmax()]\n",
    "            label_position = (x,y-10)\n",
    "            cv2.putText(frame,label,label_position,cv2.FONT_HERSHEY_SIMPLEX,1,(0,255,0),2)\n",
    "        else:\n",
    "            cv2.putText(frame,'No Faces',(30,80),cv2.FONT_HERSHEY_SIMPLEX,1,(0,255,0),2)\n",
    "    cv2.imshow('Emotion Detector',frame)\n",
    "    if cv2.waitKey(1) & 0xFF == ord('q'):\n",
    "        break\n",
    "\n",
    "cap.release()\n",
    "cv2.destroyAllWindows()"
   ]
  }
 ],
 "metadata": {
  "kernelspec": {
   "display_name": "Python 3 (ipykernel)",
   "language": "python",
   "name": "python3"
  },
  "language_info": {
   "codemirror_mode": {
    "name": "ipython",
    "version": 3
   },
   "file_extension": ".py",
   "mimetype": "text/x-python",
   "name": "python",
   "nbconvert_exporter": "python",
   "pygments_lexer": "ipython3",
   "version": "3.9.7"
  }
 },
 "nbformat": 4,
 "nbformat_minor": 5
}
